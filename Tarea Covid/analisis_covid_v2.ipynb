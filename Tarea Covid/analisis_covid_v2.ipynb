{
 "cells": [
  {
   "cell_type": "markdown",
   "metadata": {},
   "source": [
    "# Análisis Temporal de COVID-19 (V2)\n",
    "\n",
    "Este cuaderno:\n",
    "- Muestra la conversión de fechas y la agregación mensual.\n",
    "- Genera los artefactos necesarios ejecutando el pipeline.\n",
    "- Presenta un gráfico interactivo (Plotly) basado en los 3 países seleccionados.\n",
    "- Incluye respuestas fundamentadas al análisis.\n"
   ]
  },
  {
   "cell_type": "markdown",
   "metadata": {},
   "source": [
    "## 0) Preparación"
   ]
  },
  {
   "cell_type": "code",
   "execution_count": 8,
   "metadata": {},
   "outputs": [],
   "source": [
    "import pandas as pd\n",
    "import plotly.express as px\n",
    "from pathlib import Path\n",
    "from IPython.display import display, Markdown\n",
    "# Rutas\n",
    "BASE = Path('.')\n",
    "ANALISIS = BASE / 'analisis'\n",
    "CSV_INPUT = BASE / 'dataset_covid.csv'\n",
    "CSV_MENSUAL = BASE / 'casos_mensuales_por_pais.csv'\n",
    "CSV_ORDENADO = BASE / 'dataset_covid_ordenado.csv'\n",
    "CSV_TENDENCIAS = ANALISIS / 'tendencias_paises.csv'\n",
    "JSON_TOTAL_MESES = ANALISIS / 'total_mensual_por_pais.json'\n"
   ]
  },
  {
   "cell_type": "markdown",
   "metadata": {},
   "source": [
    "## 1) Ejecutar el pipeline para generar archivos (opcional si ya existen)"
   ]
  },
  {
   "cell_type": "code",
   "execution_count": 9,
   "metadata": {},
   "outputs": [
    {
     "name": "stdout",
     "output_type": "stream",
     "text": [
      "\n",
      "\n",
      "PASO 1: Convertir la columna de fecha a datetime\n",
      "\n",
      "Fechas no parseadas (NaT): 0\n",
      "Pais                     object\n",
      "Fecha            datetime64[ns]\n",
      "Casos Diarios           float64\n",
      "dtype: object\n",
      "                       Pais      Fecha  Casos Diarios\n",
      "0               Afghanistan 2020-01-09            0.0\n",
      "195772             Honduras 2020-01-09            0.0\n",
      "301539              Myanmar 2020-01-09            0.0\n",
      "16272   Antigua and Barbuda 2020-01-09            0.0\n",
      "120006             Dominica 2020-01-09            0.0\n",
      "\n",
      "\n",
      "PASO 2: Agregar columna de Mes (primer día del mes) y agrupar por País y Mes\n",
      "\n",
      "Resumen mensual por país (muestra):\n",
      "           Pais        Mes  Casos Mensuales\n",
      "0   Afghanistan 2020-01-01         0.000000\n",
      "1   Afghanistan 2020-02-01         0.014082\n",
      "2   Afghanistan 2020-03-01         2.031321\n",
      "3   Afghanistan 2020-04-01        34.060712\n",
      "4   Afghanistan 2020-05-01       270.190339\n",
      "5   Afghanistan 2020-06-01       441.374023\n",
      "6   Afghanistan 2020-07-01       145.892503\n",
      "7   Afghanistan 2020-08-01        45.481172\n",
      "8   Afghanistan 2020-09-01        27.023258\n",
      "9   Afghanistan 2020-10-01        45.428365\n",
      "10  Afghanistan 2020-11-01       113.271671\n",
      "11  Afghanistan 2020-12-01       156.763767\n",
      "Archivo guardado: casos_mensuales_por_pais.csv\n",
      "\n",
      "PASO 3: Ordenar por País y Fecha y exportar CSV\n",
      "          Pais      Fecha  Casos Diarios        Mes\n",
      "0  Afghanistan 2020-01-09            0.0 2020-01-01\n",
      "1  Afghanistan 2020-01-10            0.0 2020-01-01\n",
      "2  Afghanistan 2020-01-11            0.0 2020-01-01\n",
      "3  Afghanistan 2020-01-12            0.0 2020-01-01\n",
      "4  Afghanistan 2020-01-13            0.0 2020-01-01\n",
      "5  Afghanistan 2020-01-14            0.0 2020-01-01\n",
      "6  Afghanistan 2020-01-15            0.0 2020-01-01\n",
      "7  Afghanistan 2020-01-16            0.0 2020-01-01\n",
      "8  Afghanistan 2020-01-17            0.0 2020-01-01\n",
      "9  Afghanistan 2020-01-18            0.0 2020-01-01\n",
      "Archivo guardado: dataset_covid_ordenado.csv\n",
      "\n",
      "PASO 4: Seleccionar 2 países aleatorios + 'El Salvador' y analizar tendencias mensuales\n",
      "Países seleccionados: ['El Salvador', 'Brunei', 'Angola']\n",
      "\n",
      "Tendencias (muestra):\n",
      "      Pais        Mes  Casos Mensuales         MM3\n",
      "0   Angola 2020-01-01         0.000000    0.000000\n",
      "1   Angola 2020-02-01         0.000000    0.000000\n",
      "2   Angola 2020-03-01         0.020045    0.006682\n",
      "3   Angola 2020-04-01         0.709576    0.243207\n",
      "4   Angola 2020-05-01         1.359018    0.696213\n",
      "5   Angola 2020-06-01         4.778611    2.282401\n",
      "6   Angola 2020-07-01        20.653861    8.930496\n",
      "7   Angola 2020-08-01        40.221309   21.884594\n",
      "8   Angola 2020-09-01        62.627060   41.167410\n",
      "9   Angola 2020-10-01       145.535155   82.794508\n",
      "10  Angola 2020-11-01       142.283935  116.815383\n",
      "11  Angola 2020-12-01        65.128615  117.649235\n",
      "12  Angola 2021-01-01        66.643980   91.352177\n",
      "13  Angola 2021-02-01        29.433355   53.735317\n",
      "14  Angola 2021-03-01        38.469419   44.848918\n",
      "15  Angola 2021-04-01       106.267963   58.056913\n",
      "16  Angola 2021-05-01       217.923889  120.887090\n",
      "17  Angola 2021-06-01       135.709336  153.300396\n",
      "Archivo guardado: analisis/tendencias_paises.csv\n",
      "\n",
      "PASO 5: (Seleccionados) Agregar por país y número de mes (01-12) desde tendencias_paises.csv y exportar JSON\n",
      "\n",
      "Totales por país y mes (muestra, solo países seleccionados):\n",
      "      Pais  MesNum  Casos Totales   MesNombre\n",
      "0   Angola       1     751.729176       Enero\n",
      "1   Angola       2      56.489432     Febrero\n",
      "2   Angola       3      53.053803       Marzo\n",
      "3   Angola       4     115.789105       Abril\n",
      "4   Angola       5     246.258805        Mayo\n",
      "5   Angola       6     184.766264       Junio\n",
      "6   Angola       7     158.624216       Julio\n",
      "7   Angola       8     191.112354      Agosto\n",
      "8   Angola       9     300.615502  Septiembre\n",
      "9   Angola      10     409.340922     Octubre\n",
      "10  Angola      11     204.706541   Noviembre\n",
      "11  Angola      12     343.847492   Diciembre\n",
      "12  Brunei       1   40926.093359       Enero\n",
      "13  Brunei       2   86536.115078     Febrero\n",
      "14  Brunei       3  187746.488080       Marzo\n",
      "15  Brunei       4   32221.497826       Abril\n",
      "16  Brunei       5   56960.758996        Mayo\n",
      "17  Brunei       6   36532.694540       Junio\n",
      "18  Brunei       7  102341.116679       Julio\n",
      "19  Brunei       8   45136.891416      Agosto\n",
      "20  Brunei       9   27005.454748  Septiembre\n",
      "21  Brunei      10   44038.148600     Octubre\n",
      "22  Brunei      11   50579.459816   Noviembre\n",
      "23  Brunei      12   59863.230961   Diciembre\n",
      "Archivo JSON guardado: analisis/total_mensual_por_pais.json\n",
      "\n",
      "PASO 6: Crear gráfico de líneas interactivo (Plotly) desde JSON\n",
      "Gráfico interactivo guardado: analisis/evolucion_mensual_por_pais.html\n"
     ]
    }
   ],
   "source": [
    "# Ejecuta el pipeline que ya tienes en temporal_analysis.py\n",
    "from temporal_analysis import CovidTemporalAnalysis\n",
    "pipe = CovidTemporalAnalysis()\n",
    "pipe.run_all()\n",
    "# Al finalizar, se habrán generado: \n",
    "# - casos_mensuales_por_pais.csv\n",
    "# - dataset_covid_ordenado.csv\n",
    "# - analisis/tendencias_paises.csv\n",
    "# - analisis/total_mensual_por_pais.json\n"
   ]
  },
  {
   "cell_type": "markdown",
   "metadata": {},
   "source": [
    "## 2) Conversión de fechas y vista previa"
   ]
  },
  {
   "cell_type": "code",
   "execution_count": 10,
   "metadata": {},
   "outputs": [
    {
     "data": {
      "text/markdown": [
       "**Tipos de datos**"
      ],
      "text/plain": [
       "<IPython.core.display.Markdown object>"
      ]
     },
     "metadata": {},
     "output_type": "display_data"
    },
    {
     "data": {
      "text/html": [
       "<div>\n",
       "<style scoped>\n",
       "    .dataframe tbody tr th:only-of-type {\n",
       "        vertical-align: middle;\n",
       "    }\n",
       "\n",
       "    .dataframe tbody tr th {\n",
       "        vertical-align: top;\n",
       "    }\n",
       "\n",
       "    .dataframe thead th {\n",
       "        text-align: right;\n",
       "    }\n",
       "</style>\n",
       "<table border=\"1\" class=\"dataframe\">\n",
       "  <thead>\n",
       "    <tr style=\"text-align: right;\">\n",
       "      <th></th>\n",
       "      <th>dtype</th>\n",
       "    </tr>\n",
       "  </thead>\n",
       "  <tbody>\n",
       "    <tr>\n",
       "      <th>Pais</th>\n",
       "      <td>object</td>\n",
       "    </tr>\n",
       "    <tr>\n",
       "      <th>Fecha</th>\n",
       "      <td>datetime64[ns]</td>\n",
       "    </tr>\n",
       "    <tr>\n",
       "      <th>Casos Diarios</th>\n",
       "      <td>float64</td>\n",
       "    </tr>\n",
       "  </tbody>\n",
       "</table>\n",
       "</div>"
      ],
      "text/plain": [
       "                        dtype\n",
       "Pais                   object\n",
       "Fecha          datetime64[ns]\n",
       "Casos Diarios         float64"
      ]
     },
     "metadata": {},
     "output_type": "display_data"
    },
    {
     "data": {
      "text/markdown": [
       "**Primeras filas ordenadas por fecha**"
      ],
      "text/plain": [
       "<IPython.core.display.Markdown object>"
      ]
     },
     "metadata": {},
     "output_type": "display_data"
    },
    {
     "data": {
      "text/html": [
       "<div>\n",
       "<style scoped>\n",
       "    .dataframe tbody tr th:only-of-type {\n",
       "        vertical-align: middle;\n",
       "    }\n",
       "\n",
       "    .dataframe tbody tr th {\n",
       "        vertical-align: top;\n",
       "    }\n",
       "\n",
       "    .dataframe thead th {\n",
       "        text-align: right;\n",
       "    }\n",
       "</style>\n",
       "<table border=\"1\" class=\"dataframe\">\n",
       "  <thead>\n",
       "    <tr style=\"text-align: right;\">\n",
       "      <th></th>\n",
       "      <th>Pais</th>\n",
       "      <th>Fecha</th>\n",
       "      <th>Casos Diarios</th>\n",
       "    </tr>\n",
       "  </thead>\n",
       "  <tbody>\n",
       "    <tr>\n",
       "      <th>0</th>\n",
       "      <td>Afghanistan</td>\n",
       "      <td>2020-01-09</td>\n",
       "      <td>0.0</td>\n",
       "    </tr>\n",
       "    <tr>\n",
       "      <th>195772</th>\n",
       "      <td>Honduras</td>\n",
       "      <td>2020-01-09</td>\n",
       "      <td>0.0</td>\n",
       "    </tr>\n",
       "    <tr>\n",
       "      <th>301539</th>\n",
       "      <td>Myanmar</td>\n",
       "      <td>2020-01-09</td>\n",
       "      <td>0.0</td>\n",
       "    </tr>\n",
       "    <tr>\n",
       "      <th>16272</th>\n",
       "      <td>Antigua and Barbuda</td>\n",
       "      <td>2020-01-09</td>\n",
       "      <td>0.0</td>\n",
       "    </tr>\n",
       "    <tr>\n",
       "      <th>120006</th>\n",
       "      <td>Dominica</td>\n",
       "      <td>2020-01-09</td>\n",
       "      <td>0.0</td>\n",
       "    </tr>\n",
       "  </tbody>\n",
       "</table>\n",
       "</div>"
      ],
      "text/plain": [
       "                       Pais      Fecha  Casos Diarios\n",
       "0               Afghanistan 2020-01-09            0.0\n",
       "195772             Honduras 2020-01-09            0.0\n",
       "301539              Myanmar 2020-01-09            0.0\n",
       "16272   Antigua and Barbuda 2020-01-09            0.0\n",
       "120006             Dominica 2020-01-09            0.0"
      ]
     },
     "metadata": {},
     "output_type": "display_data"
    }
   ],
   "source": [
    "df = pd.read_csv(CSV_INPUT)\n",
    "df['Fecha'] = pd.to_datetime(df['Fecha'], errors='coerce')\n",
    "display(Markdown('**Tipos de datos**'))\n",
    "display(df.dtypes.to_frame('dtype'))\n",
    "display(Markdown('**Primeras filas ordenadas por fecha**'))\n",
    "display(df.sort_values('Fecha').head())\n"
   ]
  },
  {
   "cell_type": "markdown",
   "metadata": {},
   "source": [
    "## 3) Agrupación mensual por país"
   ]
  },
  {
   "cell_type": "code",
   "execution_count": 11,
   "metadata": {},
   "outputs": [
    {
     "data": {
      "text/html": [
       "<div>\n",
       "<style scoped>\n",
       "    .dataframe tbody tr th:only-of-type {\n",
       "        vertical-align: middle;\n",
       "    }\n",
       "\n",
       "    .dataframe tbody tr th {\n",
       "        vertical-align: top;\n",
       "    }\n",
       "\n",
       "    .dataframe thead th {\n",
       "        text-align: right;\n",
       "    }\n",
       "</style>\n",
       "<table border=\"1\" class=\"dataframe\">\n",
       "  <thead>\n",
       "    <tr style=\"text-align: right;\">\n",
       "      <th></th>\n",
       "      <th>Pais</th>\n",
       "      <th>Mes</th>\n",
       "      <th>Casos Mensuales</th>\n",
       "    </tr>\n",
       "  </thead>\n",
       "  <tbody>\n",
       "    <tr>\n",
       "      <th>0</th>\n",
       "      <td>Afghanistan</td>\n",
       "      <td>2020-01-01</td>\n",
       "      <td>0.000000</td>\n",
       "    </tr>\n",
       "    <tr>\n",
       "      <th>1</th>\n",
       "      <td>Afghanistan</td>\n",
       "      <td>2020-02-01</td>\n",
       "      <td>0.014082</td>\n",
       "    </tr>\n",
       "    <tr>\n",
       "      <th>2</th>\n",
       "      <td>Afghanistan</td>\n",
       "      <td>2020-03-01</td>\n",
       "      <td>2.031321</td>\n",
       "    </tr>\n",
       "    <tr>\n",
       "      <th>3</th>\n",
       "      <td>Afghanistan</td>\n",
       "      <td>2020-04-01</td>\n",
       "      <td>34.060712</td>\n",
       "    </tr>\n",
       "    <tr>\n",
       "      <th>4</th>\n",
       "      <td>Afghanistan</td>\n",
       "      <td>2020-05-01</td>\n",
       "      <td>270.190339</td>\n",
       "    </tr>\n",
       "    <tr>\n",
       "      <th>5</th>\n",
       "      <td>Afghanistan</td>\n",
       "      <td>2020-06-01</td>\n",
       "      <td>441.374023</td>\n",
       "    </tr>\n",
       "    <tr>\n",
       "      <th>6</th>\n",
       "      <td>Afghanistan</td>\n",
       "      <td>2020-07-01</td>\n",
       "      <td>145.892503</td>\n",
       "    </tr>\n",
       "    <tr>\n",
       "      <th>7</th>\n",
       "      <td>Afghanistan</td>\n",
       "      <td>2020-08-01</td>\n",
       "      <td>45.481172</td>\n",
       "    </tr>\n",
       "    <tr>\n",
       "      <th>8</th>\n",
       "      <td>Afghanistan</td>\n",
       "      <td>2020-09-01</td>\n",
       "      <td>27.023258</td>\n",
       "    </tr>\n",
       "    <tr>\n",
       "      <th>9</th>\n",
       "      <td>Afghanistan</td>\n",
       "      <td>2020-10-01</td>\n",
       "      <td>45.428365</td>\n",
       "    </tr>\n",
       "    <tr>\n",
       "      <th>10</th>\n",
       "      <td>Afghanistan</td>\n",
       "      <td>2020-11-01</td>\n",
       "      <td>113.271671</td>\n",
       "    </tr>\n",
       "    <tr>\n",
       "      <th>11</th>\n",
       "      <td>Afghanistan</td>\n",
       "      <td>2020-12-01</td>\n",
       "      <td>156.763767</td>\n",
       "    </tr>\n",
       "  </tbody>\n",
       "</table>\n",
       "</div>"
      ],
      "text/plain": [
       "           Pais        Mes  Casos Mensuales\n",
       "0   Afghanistan 2020-01-01         0.000000\n",
       "1   Afghanistan 2020-02-01         0.014082\n",
       "2   Afghanistan 2020-03-01         2.031321\n",
       "3   Afghanistan 2020-04-01        34.060712\n",
       "4   Afghanistan 2020-05-01       270.190339\n",
       "5   Afghanistan 2020-06-01       441.374023\n",
       "6   Afghanistan 2020-07-01       145.892503\n",
       "7   Afghanistan 2020-08-01        45.481172\n",
       "8   Afghanistan 2020-09-01        27.023258\n",
       "9   Afghanistan 2020-10-01        45.428365\n",
       "10  Afghanistan 2020-11-01       113.271671\n",
       "11  Afghanistan 2020-12-01       156.763767"
      ]
     },
     "metadata": {},
     "output_type": "display_data"
    },
    {
     "name": "stdout",
     "output_type": "stream",
     "text": [
      "Mensual guardado en: casos_mensuales_por_pais.csv\n"
     ]
    }
   ],
   "source": [
    "df['Mes'] = df['Fecha'].dt.to_period('M').dt.to_timestamp()\n",
    "mensual = (\n",
    "    df.groupby(['Pais','Mes'], as_index=False)['Casos Diarios']\n",
    "      .sum()\n",
    "      .rename(columns={'Casos Diarios':'Casos Mensuales'})\n",
    ")\n",
    "display(mensual.head(12))\n",
    "mensual.to_csv(CSV_MENSUAL, index=False)\n",
    "print('Mensual guardado en:', CSV_MENSUAL)\n"
   ]
  },
  {
   "cell_type": "markdown",
   "metadata": {},
   "source": [
    "## 4) Tendencias de los 3 países seleccionados (archivo generado por pipeline)"
   ]
  },
  {
   "cell_type": "code",
   "execution_count": 12,
   "metadata": {},
   "outputs": [
    {
     "data": {
      "text/markdown": [
       "**Países seleccionados:** Angola, Brunei, El Salvador"
      ],
      "text/plain": [
       "<IPython.core.display.Markdown object>"
      ]
     },
     "metadata": {},
     "output_type": "display_data"
    },
    {
     "data": {
      "text/html": [
       "<div>\n",
       "<style scoped>\n",
       "    .dataframe tbody tr th:only-of-type {\n",
       "        vertical-align: middle;\n",
       "    }\n",
       "\n",
       "    .dataframe tbody tr th {\n",
       "        vertical-align: top;\n",
       "    }\n",
       "\n",
       "    .dataframe thead th {\n",
       "        text-align: right;\n",
       "    }\n",
       "</style>\n",
       "<table border=\"1\" class=\"dataframe\">\n",
       "  <thead>\n",
       "    <tr style=\"text-align: right;\">\n",
       "      <th></th>\n",
       "      <th>Pais</th>\n",
       "      <th>Mes</th>\n",
       "      <th>Casos Mensuales</th>\n",
       "      <th>MM3</th>\n",
       "    </tr>\n",
       "  </thead>\n",
       "  <tbody>\n",
       "    <tr>\n",
       "      <th>0</th>\n",
       "      <td>Angola</td>\n",
       "      <td>2020-01-01</td>\n",
       "      <td>0.000000</td>\n",
       "      <td>0.000000</td>\n",
       "    </tr>\n",
       "    <tr>\n",
       "      <th>1</th>\n",
       "      <td>Angola</td>\n",
       "      <td>2020-02-01</td>\n",
       "      <td>0.000000</td>\n",
       "      <td>0.000000</td>\n",
       "    </tr>\n",
       "    <tr>\n",
       "      <th>2</th>\n",
       "      <td>Angola</td>\n",
       "      <td>2020-03-01</td>\n",
       "      <td>0.020045</td>\n",
       "      <td>0.006682</td>\n",
       "    </tr>\n",
       "    <tr>\n",
       "      <th>3</th>\n",
       "      <td>Angola</td>\n",
       "      <td>2020-04-01</td>\n",
       "      <td>0.709576</td>\n",
       "      <td>0.243207</td>\n",
       "    </tr>\n",
       "    <tr>\n",
       "      <th>4</th>\n",
       "      <td>Angola</td>\n",
       "      <td>2020-05-01</td>\n",
       "      <td>1.359018</td>\n",
       "      <td>0.696213</td>\n",
       "    </tr>\n",
       "    <tr>\n",
       "      <th>5</th>\n",
       "      <td>Angola</td>\n",
       "      <td>2020-06-01</td>\n",
       "      <td>4.778611</td>\n",
       "      <td>2.282401</td>\n",
       "    </tr>\n",
       "    <tr>\n",
       "      <th>6</th>\n",
       "      <td>Angola</td>\n",
       "      <td>2020-07-01</td>\n",
       "      <td>20.653861</td>\n",
       "      <td>8.930496</td>\n",
       "    </tr>\n",
       "    <tr>\n",
       "      <th>7</th>\n",
       "      <td>Angola</td>\n",
       "      <td>2020-08-01</td>\n",
       "      <td>40.221309</td>\n",
       "      <td>21.884594</td>\n",
       "    </tr>\n",
       "    <tr>\n",
       "      <th>8</th>\n",
       "      <td>Angola</td>\n",
       "      <td>2020-09-01</td>\n",
       "      <td>62.627060</td>\n",
       "      <td>41.167410</td>\n",
       "    </tr>\n",
       "    <tr>\n",
       "      <th>9</th>\n",
       "      <td>Angola</td>\n",
       "      <td>2020-10-01</td>\n",
       "      <td>145.535155</td>\n",
       "      <td>82.794508</td>\n",
       "    </tr>\n",
       "    <tr>\n",
       "      <th>10</th>\n",
       "      <td>Angola</td>\n",
       "      <td>2020-11-01</td>\n",
       "      <td>142.283935</td>\n",
       "      <td>116.815383</td>\n",
       "    </tr>\n",
       "    <tr>\n",
       "      <th>11</th>\n",
       "      <td>Angola</td>\n",
       "      <td>2020-12-01</td>\n",
       "      <td>65.128615</td>\n",
       "      <td>117.649235</td>\n",
       "    </tr>\n",
       "    <tr>\n",
       "      <th>12</th>\n",
       "      <td>Angola</td>\n",
       "      <td>2021-01-01</td>\n",
       "      <td>66.643980</td>\n",
       "      <td>91.352177</td>\n",
       "    </tr>\n",
       "    <tr>\n",
       "      <th>13</th>\n",
       "      <td>Angola</td>\n",
       "      <td>2021-02-01</td>\n",
       "      <td>29.433355</td>\n",
       "      <td>53.735317</td>\n",
       "    </tr>\n",
       "    <tr>\n",
       "      <th>14</th>\n",
       "      <td>Angola</td>\n",
       "      <td>2021-03-01</td>\n",
       "      <td>38.469419</td>\n",
       "      <td>44.848918</td>\n",
       "    </tr>\n",
       "    <tr>\n",
       "      <th>15</th>\n",
       "      <td>Angola</td>\n",
       "      <td>2021-04-01</td>\n",
       "      <td>106.267963</td>\n",
       "      <td>58.056913</td>\n",
       "    </tr>\n",
       "    <tr>\n",
       "      <th>16</th>\n",
       "      <td>Angola</td>\n",
       "      <td>2021-05-01</td>\n",
       "      <td>217.923889</td>\n",
       "      <td>120.887090</td>\n",
       "    </tr>\n",
       "    <tr>\n",
       "      <th>17</th>\n",
       "      <td>Angola</td>\n",
       "      <td>2021-06-01</td>\n",
       "      <td>135.709336</td>\n",
       "      <td>153.300396</td>\n",
       "    </tr>\n",
       "  </tbody>\n",
       "</table>\n",
       "</div>"
      ],
      "text/plain": [
       "      Pais        Mes  Casos Mensuales         MM3\n",
       "0   Angola 2020-01-01         0.000000    0.000000\n",
       "1   Angola 2020-02-01         0.000000    0.000000\n",
       "2   Angola 2020-03-01         0.020045    0.006682\n",
       "3   Angola 2020-04-01         0.709576    0.243207\n",
       "4   Angola 2020-05-01         1.359018    0.696213\n",
       "5   Angola 2020-06-01         4.778611    2.282401\n",
       "6   Angola 2020-07-01        20.653861    8.930496\n",
       "7   Angola 2020-08-01        40.221309   21.884594\n",
       "8   Angola 2020-09-01        62.627060   41.167410\n",
       "9   Angola 2020-10-01       145.535155   82.794508\n",
       "10  Angola 2020-11-01       142.283935  116.815383\n",
       "11  Angola 2020-12-01        65.128615  117.649235\n",
       "12  Angola 2021-01-01        66.643980   91.352177\n",
       "13  Angola 2021-02-01        29.433355   53.735317\n",
       "14  Angola 2021-03-01        38.469419   44.848918\n",
       "15  Angola 2021-04-01       106.267963   58.056913\n",
       "16  Angola 2021-05-01       217.923889  120.887090\n",
       "17  Angola 2021-06-01       135.709336  153.300396"
      ]
     },
     "metadata": {},
     "output_type": "display_data"
    }
   ],
   "source": [
    "tend = pd.read_csv(CSV_TENDENCIAS, parse_dates=['Mes'])\n",
    "paises_sel = tend['Pais'].unique().tolist()\n",
    "display(Markdown('**Países seleccionados:** ' + ', '.join(paises_sel)))\n",
    "display(tend.head(18))\n"
   ]
  },
  {
   "cell_type": "markdown",
   "metadata": {},
   "source": [
    "## 5) Agregación por mes calendario (solo países seleccionados) y JSON"
   ]
  },
  {
   "cell_type": "code",
   "execution_count": 13,
   "metadata": {},
   "outputs": [
    {
     "data": {
      "text/html": [
       "<div>\n",
       "<style scoped>\n",
       "    .dataframe tbody tr th:only-of-type {\n",
       "        vertical-align: middle;\n",
       "    }\n",
       "\n",
       "    .dataframe tbody tr th {\n",
       "        vertical-align: top;\n",
       "    }\n",
       "\n",
       "    .dataframe thead th {\n",
       "        text-align: right;\n",
       "    }\n",
       "</style>\n",
       "<table border=\"1\" class=\"dataframe\">\n",
       "  <thead>\n",
       "    <tr style=\"text-align: right;\">\n",
       "      <th></th>\n",
       "      <th>Pais</th>\n",
       "      <th>MesNum</th>\n",
       "      <th>Casos Totales</th>\n",
       "      <th>MesNombre</th>\n",
       "    </tr>\n",
       "  </thead>\n",
       "  <tbody>\n",
       "    <tr>\n",
       "      <th>0</th>\n",
       "      <td>Angola</td>\n",
       "      <td>1</td>\n",
       "      <td>751.729176</td>\n",
       "      <td>Enero</td>\n",
       "    </tr>\n",
       "    <tr>\n",
       "      <th>1</th>\n",
       "      <td>Angola</td>\n",
       "      <td>2</td>\n",
       "      <td>56.489432</td>\n",
       "      <td>Febrero</td>\n",
       "    </tr>\n",
       "    <tr>\n",
       "      <th>2</th>\n",
       "      <td>Angola</td>\n",
       "      <td>3</td>\n",
       "      <td>53.053803</td>\n",
       "      <td>Marzo</td>\n",
       "    </tr>\n",
       "    <tr>\n",
       "      <th>3</th>\n",
       "      <td>Angola</td>\n",
       "      <td>4</td>\n",
       "      <td>115.789105</td>\n",
       "      <td>Abril</td>\n",
       "    </tr>\n",
       "    <tr>\n",
       "      <th>4</th>\n",
       "      <td>Angola</td>\n",
       "      <td>5</td>\n",
       "      <td>246.258805</td>\n",
       "      <td>Mayo</td>\n",
       "    </tr>\n",
       "    <tr>\n",
       "      <th>5</th>\n",
       "      <td>Angola</td>\n",
       "      <td>6</td>\n",
       "      <td>184.766264</td>\n",
       "      <td>Junio</td>\n",
       "    </tr>\n",
       "    <tr>\n",
       "      <th>6</th>\n",
       "      <td>Angola</td>\n",
       "      <td>7</td>\n",
       "      <td>158.624216</td>\n",
       "      <td>Julio</td>\n",
       "    </tr>\n",
       "    <tr>\n",
       "      <th>7</th>\n",
       "      <td>Angola</td>\n",
       "      <td>8</td>\n",
       "      <td>191.112354</td>\n",
       "      <td>Agosto</td>\n",
       "    </tr>\n",
       "    <tr>\n",
       "      <th>8</th>\n",
       "      <td>Angola</td>\n",
       "      <td>9</td>\n",
       "      <td>300.615502</td>\n",
       "      <td>Septiembre</td>\n",
       "    </tr>\n",
       "    <tr>\n",
       "      <th>9</th>\n",
       "      <td>Angola</td>\n",
       "      <td>10</td>\n",
       "      <td>409.340922</td>\n",
       "      <td>Octubre</td>\n",
       "    </tr>\n",
       "    <tr>\n",
       "      <th>10</th>\n",
       "      <td>Angola</td>\n",
       "      <td>11</td>\n",
       "      <td>204.706541</td>\n",
       "      <td>Noviembre</td>\n",
       "    </tr>\n",
       "    <tr>\n",
       "      <th>11</th>\n",
       "      <td>Angola</td>\n",
       "      <td>12</td>\n",
       "      <td>343.847492</td>\n",
       "      <td>Diciembre</td>\n",
       "    </tr>\n",
       "    <tr>\n",
       "      <th>12</th>\n",
       "      <td>Brunei</td>\n",
       "      <td>1</td>\n",
       "      <td>40926.093359</td>\n",
       "      <td>Enero</td>\n",
       "    </tr>\n",
       "    <tr>\n",
       "      <th>13</th>\n",
       "      <td>Brunei</td>\n",
       "      <td>2</td>\n",
       "      <td>86536.115078</td>\n",
       "      <td>Febrero</td>\n",
       "    </tr>\n",
       "    <tr>\n",
       "      <th>14</th>\n",
       "      <td>Brunei</td>\n",
       "      <td>3</td>\n",
       "      <td>187746.488080</td>\n",
       "      <td>Marzo</td>\n",
       "    </tr>\n",
       "    <tr>\n",
       "      <th>15</th>\n",
       "      <td>Brunei</td>\n",
       "      <td>4</td>\n",
       "      <td>32221.497826</td>\n",
       "      <td>Abril</td>\n",
       "    </tr>\n",
       "    <tr>\n",
       "      <th>16</th>\n",
       "      <td>Brunei</td>\n",
       "      <td>5</td>\n",
       "      <td>56960.758996</td>\n",
       "      <td>Mayo</td>\n",
       "    </tr>\n",
       "    <tr>\n",
       "      <th>17</th>\n",
       "      <td>Brunei</td>\n",
       "      <td>6</td>\n",
       "      <td>36532.694540</td>\n",
       "      <td>Junio</td>\n",
       "    </tr>\n",
       "    <tr>\n",
       "      <th>18</th>\n",
       "      <td>Brunei</td>\n",
       "      <td>7</td>\n",
       "      <td>102341.116679</td>\n",
       "      <td>Julio</td>\n",
       "    </tr>\n",
       "    <tr>\n",
       "      <th>19</th>\n",
       "      <td>Brunei</td>\n",
       "      <td>8</td>\n",
       "      <td>45136.891416</td>\n",
       "      <td>Agosto</td>\n",
       "    </tr>\n",
       "    <tr>\n",
       "      <th>20</th>\n",
       "      <td>Brunei</td>\n",
       "      <td>9</td>\n",
       "      <td>27005.454748</td>\n",
       "      <td>Septiembre</td>\n",
       "    </tr>\n",
       "    <tr>\n",
       "      <th>21</th>\n",
       "      <td>Brunei</td>\n",
       "      <td>10</td>\n",
       "      <td>44038.148600</td>\n",
       "      <td>Octubre</td>\n",
       "    </tr>\n",
       "    <tr>\n",
       "      <th>22</th>\n",
       "      <td>Brunei</td>\n",
       "      <td>11</td>\n",
       "      <td>50579.459816</td>\n",
       "      <td>Noviembre</td>\n",
       "    </tr>\n",
       "    <tr>\n",
       "      <th>23</th>\n",
       "      <td>Brunei</td>\n",
       "      <td>12</td>\n",
       "      <td>59863.230961</td>\n",
       "      <td>Diciembre</td>\n",
       "    </tr>\n",
       "  </tbody>\n",
       "</table>\n",
       "</div>"
      ],
      "text/plain": [
       "      Pais  MesNum  Casos Totales   MesNombre\n",
       "0   Angola       1     751.729176       Enero\n",
       "1   Angola       2      56.489432     Febrero\n",
       "2   Angola       3      53.053803       Marzo\n",
       "3   Angola       4     115.789105       Abril\n",
       "4   Angola       5     246.258805        Mayo\n",
       "5   Angola       6     184.766264       Junio\n",
       "6   Angola       7     158.624216       Julio\n",
       "7   Angola       8     191.112354      Agosto\n",
       "8   Angola       9     300.615502  Septiembre\n",
       "9   Angola      10     409.340922     Octubre\n",
       "10  Angola      11     204.706541   Noviembre\n",
       "11  Angola      12     343.847492   Diciembre\n",
       "12  Brunei       1   40926.093359       Enero\n",
       "13  Brunei       2   86536.115078     Febrero\n",
       "14  Brunei       3  187746.488080       Marzo\n",
       "15  Brunei       4   32221.497826       Abril\n",
       "16  Brunei       5   56960.758996        Mayo\n",
       "17  Brunei       6   36532.694540       Junio\n",
       "18  Brunei       7  102341.116679       Julio\n",
       "19  Brunei       8   45136.891416      Agosto\n",
       "20  Brunei       9   27005.454748  Septiembre\n",
       "21  Brunei      10   44038.148600     Octubre\n",
       "22  Brunei      11   50579.459816   Noviembre\n",
       "23  Brunei      12   59863.230961   Diciembre"
      ]
     },
     "metadata": {},
     "output_type": "display_data"
    },
    {
     "name": "stdout",
     "output_type": "stream",
     "text": [
      "JSON guardado en: analisis\\total_mensual_por_pais.json\n"
     ]
    }
   ],
   "source": [
    "tmp = tend[['Pais','Mes','Casos Mensuales']].copy()\n",
    "tmp['MesNum'] = tmp['Mes'].dt.month\n",
    "total_mes = (\n",
    "    tmp.groupby(['Pais','MesNum'], as_index=False)['Casos Mensuales']\n",
    "       .sum()\n",
    "       .rename(columns={'Casos Mensuales':'Casos Totales'})\n",
    ")\n",
    "nombres = {1:'Enero',2:'Febrero',3:'Marzo',4:'Abril',5:'Mayo',6:'Junio',7:'Julio',8:'Agosto',9:'Septiembre',10:'Octubre',11:'Noviembre',12:'Diciembre'}\n",
    "total_mes['MesNombre'] = total_mes['MesNum'].map(nombres)\n",
    "total_mes = total_mes.sort_values(['Pais','MesNum']).reset_index(drop=True)\n",
    "display(total_mes.head(24))\n",
    "ANALISIS.mkdir(exist_ok=True)\n",
    "total_mes.to_json(JSON_TOTAL_MESES, orient='records', force_ascii=False)\n",
    "print('JSON guardado en:', JSON_TOTAL_MESES)\n"
   ]
  },
  {
   "cell_type": "markdown",
   "metadata": {},
   "source": [
    "## 6) Gráfico interactivo (Plotly) desde el JSON"
   ]
  },
  {
   "cell_type": "code",
   "execution_count": 14,
   "metadata": {},
   "outputs": [
    {
     "data": {
      "application/vnd.plotly.v1+json": {
       "config": {
        "plotlyServerURL": "https://plot.ly"
       },
       "data": [
        {
         "hovertemplate": "<b>%{legendgroup}</b><br>Mes=%{x}<br>Casos Totales=%{y:,.2f}<extra></extra>",
         "legendgroup": "Angola",
         "line": {
          "color": "#636efa",
          "dash": "solid"
         },
         "marker": {
          "symbol": "circle"
         },
         "mode": "lines+markers",
         "name": "Angola",
         "orientation": "v",
         "showlegend": true,
         "type": "scatter",
         "x": [
          "Enero",
          "Febrero",
          "Marzo",
          "Abril",
          "Mayo",
          "Junio",
          "Julio",
          "Agosto",
          "Septiembre",
          "Octubre",
          "Noviembre",
          "Diciembre"
         ],
         "xaxis": "x",
         "y": {
          "bdata": "etwLWtV9h0DbtoC0pT5MQAAbeATjhkpAilegsIDyXECacr0hSMhuQMDvCj2FGGdA3kGTlPnTY0AUJ7BmmONnQD5vThjZyXJAhxOEanSVeUBMmMH8m5ZpQIguZlOPfXVA",
          "dtype": "f8"
         },
         "yaxis": "y"
        },
        {
         "hovertemplate": "<b>%{legendgroup}</b><br>Mes=%{x}<br>Casos Totales=%{y:,.2f}<extra></extra>",
         "legendgroup": "Brunei",
         "line": {
          "color": "#EF553B",
          "dash": "solid"
         },
         "marker": {
          "symbol": "circle"
         },
         "mode": "lines+markers",
         "name": "Brunei",
         "orientation": "v",
         "showlegend": true,
         "type": "scatter",
         "x": [
          "Enero",
          "Febrero",
          "Marzo",
          "Abril",
          "Mayo",
          "Junio",
          "Julio",
          "Agosto",
          "Septiembre",
          "Octubre",
          "Noviembre",
          "Diciembre"
         ],
         "xaxis": "x",
         "y": {
          "bdata": "oILL/ML740BmoVvXgSD1QH9glucT6wZBJ1Ng3F9330A23LJJGNDrQG8TrDmW1uFA/tnq3VH8+EDwR3qGHArmQG0zmRpdX9pARqBVwcSA5UCMzNC2brLoQBW+CGTnOu1A",
          "dtype": "f8"
         },
         "yaxis": "y"
        },
        {
         "hovertemplate": "<b>%{legendgroup}</b><br>Mes=%{x}<br>Casos Totales=%{y:,.2f}<extra></extra>",
         "legendgroup": "El Salvador",
         "line": {
          "color": "#00cc96",
          "dash": "solid"
         },
         "marker": {
          "symbol": "circle"
         },
         "mode": "lines+markers",
         "name": "El Salvador",
         "orientation": "v",
         "showlegend": true,
         "type": "scatter",
         "x": [
          "Enero",
          "Febrero",
          "Marzo",
          "Abril",
          "Mayo",
          "Junio",
          "Julio",
          "Agosto",
          "Septiembre",
          "Octubre",
          "Noviembre",
          "Diciembre"
         ],
         "xaxis": "x",
         "y": {
          "bdata": "Tch22kDLo0C9hxHjVm6uQJ5gVXZPTqZAgnvBTk0OjkBaNkUQc/OPQHk/mT+raaNAH54lyElctECLvid7OA+wQGfg097Ww6tAp9EUnKZ8oUBoGmjMWzaaQAMI9MlXUplA",
          "dtype": "f8"
         },
         "yaxis": "y"
        }
       ],
       "layout": {
        "hovermode": "x unified",
        "legend": {
         "title": {
          "text": "País"
         },
         "tracegroupgap": 0
        },
        "template": {
         "data": {
          "bar": [
           {
            "error_x": {
             "color": "#2a3f5f"
            },
            "error_y": {
             "color": "#2a3f5f"
            },
            "marker": {
             "line": {
              "color": "#E5ECF6",
              "width": 0.5
             },
             "pattern": {
              "fillmode": "overlay",
              "size": 10,
              "solidity": 0.2
             }
            },
            "type": "bar"
           }
          ],
          "barpolar": [
           {
            "marker": {
             "line": {
              "color": "#E5ECF6",
              "width": 0.5
             },
             "pattern": {
              "fillmode": "overlay",
              "size": 10,
              "solidity": 0.2
             }
            },
            "type": "barpolar"
           }
          ],
          "carpet": [
           {
            "aaxis": {
             "endlinecolor": "#2a3f5f",
             "gridcolor": "white",
             "linecolor": "white",
             "minorgridcolor": "white",
             "startlinecolor": "#2a3f5f"
            },
            "baxis": {
             "endlinecolor": "#2a3f5f",
             "gridcolor": "white",
             "linecolor": "white",
             "minorgridcolor": "white",
             "startlinecolor": "#2a3f5f"
            },
            "type": "carpet"
           }
          ],
          "choropleth": [
           {
            "colorbar": {
             "outlinewidth": 0,
             "ticks": ""
            },
            "type": "choropleth"
           }
          ],
          "contour": [
           {
            "colorbar": {
             "outlinewidth": 0,
             "ticks": ""
            },
            "colorscale": [
             [
              0,
              "#0d0887"
             ],
             [
              0.1111111111111111,
              "#46039f"
             ],
             [
              0.2222222222222222,
              "#7201a8"
             ],
             [
              0.3333333333333333,
              "#9c179e"
             ],
             [
              0.4444444444444444,
              "#bd3786"
             ],
             [
              0.5555555555555556,
              "#d8576b"
             ],
             [
              0.6666666666666666,
              "#ed7953"
             ],
             [
              0.7777777777777778,
              "#fb9f3a"
             ],
             [
              0.8888888888888888,
              "#fdca26"
             ],
             [
              1,
              "#f0f921"
             ]
            ],
            "type": "contour"
           }
          ],
          "contourcarpet": [
           {
            "colorbar": {
             "outlinewidth": 0,
             "ticks": ""
            },
            "type": "contourcarpet"
           }
          ],
          "heatmap": [
           {
            "colorbar": {
             "outlinewidth": 0,
             "ticks": ""
            },
            "colorscale": [
             [
              0,
              "#0d0887"
             ],
             [
              0.1111111111111111,
              "#46039f"
             ],
             [
              0.2222222222222222,
              "#7201a8"
             ],
             [
              0.3333333333333333,
              "#9c179e"
             ],
             [
              0.4444444444444444,
              "#bd3786"
             ],
             [
              0.5555555555555556,
              "#d8576b"
             ],
             [
              0.6666666666666666,
              "#ed7953"
             ],
             [
              0.7777777777777778,
              "#fb9f3a"
             ],
             [
              0.8888888888888888,
              "#fdca26"
             ],
             [
              1,
              "#f0f921"
             ]
            ],
            "type": "heatmap"
           }
          ],
          "histogram": [
           {
            "marker": {
             "pattern": {
              "fillmode": "overlay",
              "size": 10,
              "solidity": 0.2
             }
            },
            "type": "histogram"
           }
          ],
          "histogram2d": [
           {
            "colorbar": {
             "outlinewidth": 0,
             "ticks": ""
            },
            "colorscale": [
             [
              0,
              "#0d0887"
             ],
             [
              0.1111111111111111,
              "#46039f"
             ],
             [
              0.2222222222222222,
              "#7201a8"
             ],
             [
              0.3333333333333333,
              "#9c179e"
             ],
             [
              0.4444444444444444,
              "#bd3786"
             ],
             [
              0.5555555555555556,
              "#d8576b"
             ],
             [
              0.6666666666666666,
              "#ed7953"
             ],
             [
              0.7777777777777778,
              "#fb9f3a"
             ],
             [
              0.8888888888888888,
              "#fdca26"
             ],
             [
              1,
              "#f0f921"
             ]
            ],
            "type": "histogram2d"
           }
          ],
          "histogram2dcontour": [
           {
            "colorbar": {
             "outlinewidth": 0,
             "ticks": ""
            },
            "colorscale": [
             [
              0,
              "#0d0887"
             ],
             [
              0.1111111111111111,
              "#46039f"
             ],
             [
              0.2222222222222222,
              "#7201a8"
             ],
             [
              0.3333333333333333,
              "#9c179e"
             ],
             [
              0.4444444444444444,
              "#bd3786"
             ],
             [
              0.5555555555555556,
              "#d8576b"
             ],
             [
              0.6666666666666666,
              "#ed7953"
             ],
             [
              0.7777777777777778,
              "#fb9f3a"
             ],
             [
              0.8888888888888888,
              "#fdca26"
             ],
             [
              1,
              "#f0f921"
             ]
            ],
            "type": "histogram2dcontour"
           }
          ],
          "mesh3d": [
           {
            "colorbar": {
             "outlinewidth": 0,
             "ticks": ""
            },
            "type": "mesh3d"
           }
          ],
          "parcoords": [
           {
            "line": {
             "colorbar": {
              "outlinewidth": 0,
              "ticks": ""
             }
            },
            "type": "parcoords"
           }
          ],
          "pie": [
           {
            "automargin": true,
            "type": "pie"
           }
          ],
          "scatter": [
           {
            "fillpattern": {
             "fillmode": "overlay",
             "size": 10,
             "solidity": 0.2
            },
            "type": "scatter"
           }
          ],
          "scatter3d": [
           {
            "line": {
             "colorbar": {
              "outlinewidth": 0,
              "ticks": ""
             }
            },
            "marker": {
             "colorbar": {
              "outlinewidth": 0,
              "ticks": ""
             }
            },
            "type": "scatter3d"
           }
          ],
          "scattercarpet": [
           {
            "marker": {
             "colorbar": {
              "outlinewidth": 0,
              "ticks": ""
             }
            },
            "type": "scattercarpet"
           }
          ],
          "scattergeo": [
           {
            "marker": {
             "colorbar": {
              "outlinewidth": 0,
              "ticks": ""
             }
            },
            "type": "scattergeo"
           }
          ],
          "scattergl": [
           {
            "marker": {
             "colorbar": {
              "outlinewidth": 0,
              "ticks": ""
             }
            },
            "type": "scattergl"
           }
          ],
          "scattermap": [
           {
            "marker": {
             "colorbar": {
              "outlinewidth": 0,
              "ticks": ""
             }
            },
            "type": "scattermap"
           }
          ],
          "scattermapbox": [
           {
            "marker": {
             "colorbar": {
              "outlinewidth": 0,
              "ticks": ""
             }
            },
            "type": "scattermapbox"
           }
          ],
          "scatterpolar": [
           {
            "marker": {
             "colorbar": {
              "outlinewidth": 0,
              "ticks": ""
             }
            },
            "type": "scatterpolar"
           }
          ],
          "scatterpolargl": [
           {
            "marker": {
             "colorbar": {
              "outlinewidth": 0,
              "ticks": ""
             }
            },
            "type": "scatterpolargl"
           }
          ],
          "scatterternary": [
           {
            "marker": {
             "colorbar": {
              "outlinewidth": 0,
              "ticks": ""
             }
            },
            "type": "scatterternary"
           }
          ],
          "surface": [
           {
            "colorbar": {
             "outlinewidth": 0,
             "ticks": ""
            },
            "colorscale": [
             [
              0,
              "#0d0887"
             ],
             [
              0.1111111111111111,
              "#46039f"
             ],
             [
              0.2222222222222222,
              "#7201a8"
             ],
             [
              0.3333333333333333,
              "#9c179e"
             ],
             [
              0.4444444444444444,
              "#bd3786"
             ],
             [
              0.5555555555555556,
              "#d8576b"
             ],
             [
              0.6666666666666666,
              "#ed7953"
             ],
             [
              0.7777777777777778,
              "#fb9f3a"
             ],
             [
              0.8888888888888888,
              "#fdca26"
             ],
             [
              1,
              "#f0f921"
             ]
            ],
            "type": "surface"
           }
          ],
          "table": [
           {
            "cells": {
             "fill": {
              "color": "#EBF0F8"
             },
             "line": {
              "color": "white"
             }
            },
            "header": {
             "fill": {
              "color": "#C8D4E3"
             },
             "line": {
              "color": "white"
             }
            },
            "type": "table"
           }
          ]
         },
         "layout": {
          "annotationdefaults": {
           "arrowcolor": "#2a3f5f",
           "arrowhead": 0,
           "arrowwidth": 1
          },
          "autotypenumbers": "strict",
          "coloraxis": {
           "colorbar": {
            "outlinewidth": 0,
            "ticks": ""
           }
          },
          "colorscale": {
           "diverging": [
            [
             0,
             "#8e0152"
            ],
            [
             0.1,
             "#c51b7d"
            ],
            [
             0.2,
             "#de77ae"
            ],
            [
             0.3,
             "#f1b6da"
            ],
            [
             0.4,
             "#fde0ef"
            ],
            [
             0.5,
             "#f7f7f7"
            ],
            [
             0.6,
             "#e6f5d0"
            ],
            [
             0.7,
             "#b8e186"
            ],
            [
             0.8,
             "#7fbc41"
            ],
            [
             0.9,
             "#4d9221"
            ],
            [
             1,
             "#276419"
            ]
           ],
           "sequential": [
            [
             0,
             "#0d0887"
            ],
            [
             0.1111111111111111,
             "#46039f"
            ],
            [
             0.2222222222222222,
             "#7201a8"
            ],
            [
             0.3333333333333333,
             "#9c179e"
            ],
            [
             0.4444444444444444,
             "#bd3786"
            ],
            [
             0.5555555555555556,
             "#d8576b"
            ],
            [
             0.6666666666666666,
             "#ed7953"
            ],
            [
             0.7777777777777778,
             "#fb9f3a"
            ],
            [
             0.8888888888888888,
             "#fdca26"
            ],
            [
             1,
             "#f0f921"
            ]
           ],
           "sequentialminus": [
            [
             0,
             "#0d0887"
            ],
            [
             0.1111111111111111,
             "#46039f"
            ],
            [
             0.2222222222222222,
             "#7201a8"
            ],
            [
             0.3333333333333333,
             "#9c179e"
            ],
            [
             0.4444444444444444,
             "#bd3786"
            ],
            [
             0.5555555555555556,
             "#d8576b"
            ],
            [
             0.6666666666666666,
             "#ed7953"
            ],
            [
             0.7777777777777778,
             "#fb9f3a"
            ],
            [
             0.8888888888888888,
             "#fdca26"
            ],
            [
             1,
             "#f0f921"
            ]
           ]
          },
          "colorway": [
           "#636efa",
           "#EF553B",
           "#00cc96",
           "#ab63fa",
           "#FFA15A",
           "#19d3f3",
           "#FF6692",
           "#B6E880",
           "#FF97FF",
           "#FECB52"
          ],
          "font": {
           "color": "#2a3f5f"
          },
          "geo": {
           "bgcolor": "white",
           "lakecolor": "white",
           "landcolor": "#E5ECF6",
           "showlakes": true,
           "showland": true,
           "subunitcolor": "white"
          },
          "hoverlabel": {
           "align": "left"
          },
          "hovermode": "closest",
          "mapbox": {
           "style": "light"
          },
          "paper_bgcolor": "white",
          "plot_bgcolor": "#E5ECF6",
          "polar": {
           "angularaxis": {
            "gridcolor": "white",
            "linecolor": "white",
            "ticks": ""
           },
           "bgcolor": "#E5ECF6",
           "radialaxis": {
            "gridcolor": "white",
            "linecolor": "white",
            "ticks": ""
           }
          },
          "scene": {
           "xaxis": {
            "backgroundcolor": "#E5ECF6",
            "gridcolor": "white",
            "gridwidth": 2,
            "linecolor": "white",
            "showbackground": true,
            "ticks": "",
            "zerolinecolor": "white"
           },
           "yaxis": {
            "backgroundcolor": "#E5ECF6",
            "gridcolor": "white",
            "gridwidth": 2,
            "linecolor": "white",
            "showbackground": true,
            "ticks": "",
            "zerolinecolor": "white"
           },
           "zaxis": {
            "backgroundcolor": "#E5ECF6",
            "gridcolor": "white",
            "gridwidth": 2,
            "linecolor": "white",
            "showbackground": true,
            "ticks": "",
            "zerolinecolor": "white"
           }
          },
          "shapedefaults": {
           "line": {
            "color": "#2a3f5f"
           }
          },
          "ternary": {
           "aaxis": {
            "gridcolor": "white",
            "linecolor": "white",
            "ticks": ""
           },
           "baxis": {
            "gridcolor": "white",
            "linecolor": "white",
            "ticks": ""
           },
           "bgcolor": "#E5ECF6",
           "caxis": {
            "gridcolor": "white",
            "linecolor": "white",
            "ticks": ""
           }
          },
          "title": {
           "x": 0.05
          },
          "xaxis": {
           "automargin": true,
           "gridcolor": "white",
           "linecolor": "white",
           "ticks": "",
           "title": {
            "standoff": 15
           },
           "zerolinecolor": "white",
           "zerolinewidth": 2
          },
          "yaxis": {
           "automargin": true,
           "gridcolor": "white",
           "linecolor": "white",
           "ticks": "",
           "title": {
            "standoff": 15
           },
           "zerolinecolor": "white",
           "zerolinewidth": 2
          }
         }
        },
        "title": {
         "text": "Evolución mensual de casos por país (solo países seleccionados)"
        },
        "xaxis": {
         "anchor": "y",
         "domain": [
          0,
          1
         ],
         "title": {
          "text": "Mes"
         }
        },
        "yaxis": {
         "anchor": "x",
         "domain": [
          0,
          1
         ],
         "tickformat": ",.2f",
         "title": {
          "text": "Casos Totales"
         }
        }
       }
      }
     },
     "metadata": {},
     "output_type": "display_data"
    }
   ],
   "source": [
    "df_json = pd.read_json(JSON_TOTAL_MESES, orient='records')\n",
    "if 'MesNombre' not in df_json.columns:\n",
    "    df_json['MesNombre'] = df_json['MesNum'].map(nombres)\n",
    "df_json = df_json.sort_values(['Pais','MesNum'])\n",
    "fig = px.line(\n",
    "    df_json, x='MesNombre', y='Casos Totales', color='Pais', markers=True,\n",
    "    title='Evolución mensual de casos por país (solo países seleccionados)'\n",
    ")\n",
    "fig.update_traces(mode='lines+markers', hovertemplate='<b>%{legendgroup}</b><br>Mes=%{x}<br>Casos Totales=%{y:,.2f}<extra></extra>')\n",
    "fig.update_layout(hovermode='x unified', yaxis_tickformat=',.2f', xaxis_title='Mes', yaxis_title='Casos Totales', legend_title='País')\n",
    "fig.show()\n"
   ]
  },
  {
   "cell_type": "markdown",
   "metadata": {},
   "source": [
    "## 7) Respuestas fundamentadas\n",
    "\n",
    "- **[tendencias]** Se observan picos mensuales en distintos meses según el país (ver curvas).\n",
    "- **[estacionalidad]** Al agregar por `MesNum`, comparamos la estacionalidad independientemente del año.\n",
    "- **[suavizado]** La columna `MM3` en `tendencias_paises.csv` (promedio móvil 3 meses) apoya la interpretación reduciendo ruido.\n",
    "- **[comparabilidad]** Formato con miles y 2 decimales y hover unificado facilitan comparar magnitudes; si hay órdenes de magnitud distintos, considerar eje Y logarítmico.\n"
   ]
  }
 ],
 "metadata": {
  "kernelspec": {
   "display_name": "venv",
   "language": "python",
   "name": "python3"
  },
  "language_info": {
   "codemirror_mode": {
    "name": "ipython",
    "version": 3
   },
   "file_extension": ".py",
   "mimetype": "text/x-python",
   "name": "python",
   "nbconvert_exporter": "python",
   "pygments_lexer": "ipython3",
   "version": "3.13.7"
  }
 },
 "nbformat": 4,
 "nbformat_minor": 5
}
